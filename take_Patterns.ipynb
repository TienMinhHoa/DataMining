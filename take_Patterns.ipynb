{
 "cells": [
  {
   "cell_type": "code",
   "execution_count": 1,
   "id": "6e125cf6",
   "metadata": {},
   "outputs": [],
   "source": [
    "from osgeo import gdal,osr\n"
   ]
  },
  {
   "cell_type": "code",
   "execution_count": 2,
   "id": "8174885b",
   "metadata": {},
   "outputs": [],
   "source": [
    "import numpy as np\n",
    "import pandas as pd\n",
    "import struct\n",
    "import matplotlib.pyplot as plt"
   ]
  },
  {
   "cell_type": "code",
   "execution_count": 3,
   "id": "a28a2a12",
   "metadata": {},
   "outputs": [
    {
     "name": "stderr",
     "output_type": "stream",
     "text": [
      "D:\\anaconda\\envs\\pygdal\\Lib\\site-packages\\osgeo\\gdal.py:287: FutureWarning: Neither gdal.UseExceptions() nor gdal.DontUseExceptions() has been explicitly called. In GDAL 4.0, exceptions will be enabled by default.\n",
      "  warnings.warn(\n"
     ]
    },
    {
     "data": {
      "text/plain": [
       "<osgeo.gdal.Dataset; proxy of <Swig Object of type 'GDALDatasetShadow *' at 0x00000168ECE36190> >"
      ]
     },
     "execution_count": 3,
     "metadata": {},
     "output_type": "execute_result"
    }
   ],
   "source": [
    "#load data from file .tif\n",
    "data_band = gdal.Open(\"HA_NOI_Class.tif\",gdal.GA_ReadOnly)\n",
    "data_band"
   ]
  },
  {
   "cell_type": "code",
   "execution_count": 4,
   "id": "95c867aa",
   "metadata": {},
   "outputs": [],
   "source": [
    "#Load the cube of data_band\n",
    "class_band = data_band.GetRasterBand(1)\n",
    "band_cube = []\n",
    "for i in range(367):\n",
    "    bandData = class_band.ReadRaster(xoff=0, yoff=i,\n",
    "                                            xsize=class_band.XSize, ysize=1,\n",
    "                                            buf_xsize=class_band.XSize, buf_ysize=1,\n",
    "                                            buf_type=gdal.GDT_Float32)\n",
    "    decimal_value =struct.unpack('f'*class_band.XSize, bandData)\n",
    "    band_cube.append(decimal_value)"
   ]
  },
  {
   "cell_type": "code",
   "execution_count": 29,
   "id": "e3bcbe08",
   "metadata": {},
   "outputs": [
    {
     "data": {
      "text/plain": [
       "0.0"
      ]
     },
     "execution_count": 29,
     "metadata": {},
     "output_type": "execute_result"
    }
   ],
   "source": [
    "band_cube[0][1]"
   ]
  },
  {
   "cell_type": "code",
   "execution_count": 5,
   "id": "42607135",
   "metadata": {},
   "outputs": [],
   "source": [
    "\n",
    "my_dict = {'1':[],'2':[],'3':[],'4':[],'5':[],'6':[],'7':[],'8':[],'9':[],'10':[],'11':[],'12':[]}"
   ]
  },
  {
   "cell_type": "code",
   "execution_count": 6,
   "id": "5fea52a2",
   "metadata": {},
   "outputs": [],
   "source": [
    "#classify labels \n",
    "for i in range(len(band_cube)):\n",
    "    for j in range(len(band_cube[i])):\n",
    "        tmp = int(band_cube[i][j])\n",
    "        if(tmp!=0):\n",
    "            my_dict[str(tmp)].append([i,j])\n"
   ]
  },
  {
   "cell_type": "code",
   "execution_count": 7,
   "id": "f3a56ac3",
   "metadata": {},
   "outputs": [
    {
     "data": {
      "text/plain": [
       "[5446, 12102, 17698, 12097, 73, 1977, 210, 1098, 1, 3397, 21, 40]"
      ]
     },
     "execution_count": 7,
     "metadata": {},
     "output_type": "execute_result"
    }
   ],
   "source": [
    "#get the information of each label\n",
    "label,info = zip(*my_dict.items())\n",
    "amount = [len(i) for i in info]\n",
    "amount"
   ]
  },
  {
   "cell_type": "code",
   "execution_count": 8,
   "id": "e5b49222",
   "metadata": {},
   "outputs": [
    {
     "data": {
      "image/png": "[encoded data removed]",
      "text/plain": [
       "<Figure size 640x480 with 1 Axes>"
      ]
     },
     "metadata": {},
     "output_type": "display_data"
    }
   ],
   "source": [
    "plt.bar(label,amount)\n",
    "plt.show()"
   ]
  },
  {
   "cell_type": "markdown",
   "id": "f5f2d343",
   "metadata": {},
   "source": [
    "# Lấy mẫu dữ liệu"
   ]
  },
  {
   "cell_type": "code",
   "execution_count": 9,
   "id": "dba523db",
   "metadata": {},
   "outputs": [],
   "source": [
    "import numpy as np\n",
    "import pandas as pd"
   ]
  },
  {
   "cell_type": "code",
   "execution_count": 31,
   "id": "b2fb514e",
   "metadata": {},
   "outputs": [],
   "source": [
    "np.random.seed(42)\n",
    "#lưu thông tin của pixel trong file band_data.txt\n",
    "with open(\"band_data.txt\",\"w\") as file:\n",
    "    file.write(\"xPix,yPix,label\\n\")\n",
    "    for i in range(len(amount)):\n",
    "        if(amount[i] < 1000):\n",
    "            my_dict[str(i+1)] = []\n",
    "        else:\n",
    "            my_arr = np.array(range(amount[i]))\n",
    "            random_ele = np.random.choice(my_arr,size = 1000,replace = False)\n",
    "            for j in random_ele:\n",
    "                file.write(str(my_dict[str(i+1)][j][0])+\",\"+str(my_dict[str(i+1)][j][1])+\",\"+str(i+1)+\"\\n\")\n"
   ]
  },
  {
   "cell_type": "code",
   "execution_count": 30,
   "id": "0e9b07f8",
   "metadata": {},
   "outputs": [],
   "source": []
  },
  {
   "cell_type": "code",
   "execution_count": null,
   "id": "2b591627",
   "metadata": {},
   "outputs": [],
   "source": []
  },
  {
   "cell_type": "code",
   "execution_count": 32,
   "id": "517a81e9",
   "metadata": {},
   "outputs": [
    {
     "name": "stdout",
     "output_type": "stream",
     "text": [
      "<class 'osgeo.gdal.Dataset'>\n"
     ]
    }
   ],
   "source": [
    "dataset = gdal.Open('HaNoiResample.tif',gdal.GA_ReadOnly)\n",
    "print(type(dataset))"
   ]
  },
  {
   "cell_type": "code",
   "execution_count": 33,
   "id": "58fb69fe",
   "metadata": {},
   "outputs": [],
   "source": [
    "df = pd.read_csv(\"band_data.txt\")"
   ]
  },
  {
   "cell_type": "code",
   "execution_count": 34,
   "id": "d9a84bdf",
   "metadata": {},
   "outputs": [],
   "source": [
    "#the amount of bands\n",
    "bands = [1,2,3,4,5,6,7]\n",
    "\n",
    "#information of file .tif\n",
    "geotransform = dataset.GetGeoTransform()\n",
    "\n",
    "\n",
    "#width and height one pixel\n",
    "width = geotransform[1]\n",
    "height = geotransform[-1]\n",
    "\n",
    "#the origin of coordinates\n",
    "X0 = geotransform[0]\n",
    "Y0 = geotransform[3]\n",
    "\n"
   ]
  },
  {
   "cell_type": "code",
   "execution_count": 35,
   "id": "41fa69b7",
   "metadata": {},
   "outputs": [
    {
     "data": {
      "text/plain": [
       "7000"
      ]
     },
     "execution_count": 35,
     "metadata": {},
     "output_type": "execute_result"
    }
   ],
   "source": [
    "data = df.values\n",
    "len(data)"
   ]
  },
  {
   "cell_type": "code",
   "execution_count": null,
   "id": "591235e4",
   "metadata": {},
   "outputs": [],
   "source": []
  },
  {
   "cell_type": "code",
   "execution_count": 37,
   "id": "8c5d9c82",
   "metadata": {},
   "outputs": [],
   "source": [
    "#take the patterns of data\n",
    "train_data = open(\"train_data.txt\",\"w\")\n",
    "train_data.write(\"X,Y,B1,B2,B3,B4,B5,B6,B7,label,\\n\")\n",
    "for row in data:\n",
    "    xCoor = row[1]*248.861287068994415+529856.162601926596835+50\n",
    "    yCoor = row[0]*-248.861287068994329+2365139.414989041630179-50\n",
    "    train_data.write(str(xCoor)+\",\"+str(yCoor)+\",\")\n",
    "    tmp = \"\"\n",
    "    for band in bands:\n",
    "        band_data = dataset.GetRasterBand(band)\n",
    "        scanline = band_data.ReadRaster(xoff=int(row[1]), yoff=int(row[0]),\n",
    "                            xsize=1, ysize=1,\n",
    "                            buf_xsize=1, buf_ysize=1,\n",
    "                            buf_type=gdal.GDT_Float32)\n",
    "        decimal_data = struct.unpack('f' , scanline)[0]\n",
    "        tmp+= str(decimal_data)+\",\"\n",
    "    tmp+= str(int(row[2]))+\",\"\n",
    "    train_data.write(tmp+\"\\n\")"
   ]
  },
  {
   "cell_type": "code",
   "execution_count": null,
   "id": "434d6a1a",
   "metadata": {},
   "outputs": [],
   "source": []
  },
  {
   "cell_type": "code",
   "execution_count": null,
   "id": "f875b68b",
   "metadata": {},
   "outputs": [],
   "source": []
  }
 ],
 "metadata": {
  "kernelspec": {
   "display_name": "Python 3 (ipykernel)",
   "language": "python",
   "name": "python3"
  },
  "language_info": {
   "codemirror_mode": {
    "name": "ipython",
    "version": 3
   },
   "file_extension": ".py",
   "mimetype": "text/x-python",
   "name": "python",
   "nbconvert_exporter": "python",
   "pygments_lexer": "ipython3",
   "version": "3.11.6"
  }
 },
 "nbformat": 4,
 "nbformat_minor": 5
}
